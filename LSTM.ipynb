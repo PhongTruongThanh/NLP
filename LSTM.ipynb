{
 "cells": [
  {
   "cell_type": "code",
   "execution_count": 1,
   "metadata": {},
   "outputs": [
    {
     "name": "stdout",
     "output_type": "stream",
     "text": [
      "WARNING:tensorflow:From c:\\Users\\PHC\\AppData\\Local\\Programs\\Python\\Python311\\Lib\\site-packages\\keras\\src\\losses.py:2976: The name tf.losses.sparse_softmax_cross_entropy is deprecated. Please use tf.compat.v1.losses.sparse_softmax_cross_entropy instead.\n",
      "\n"
     ]
    }
   ],
   "source": [
    "# Thư viện sử dụng\n",
    "import numpy as np\n",
    "import pandas as pd\n",
    "from sklearn.model_selection import train_test_split\n",
    "from sklearn.preprocessing import LabelEncoder\n",
    "import tensorflow as tf\n",
    "from tensorflow.keras.preprocessing.text import Tokenizer\n",
    "from tensorflow.keras.preprocessing.sequence import pad_sequences\n",
    "from tensorflow.keras.utils import to_categorical\n",
    "from tensorflow.keras.models import Sequential\n",
    "from tensorflow.keras.layers import Embedding, LSTM, Dense, Bidirectional\n",
    "import joblib\n",
    "from sklearn.metrics import accuracy_score, precision_score, recall_score, f1_score\n",
    "from pyvi import ViTokenizer\n",
    "import re\n",
    "from tensorflow.keras import backend as K\n",
    "\n",
    "import warnings\n",
    "warnings.filterwarnings(\"ignore\")"
   ]
  },
  {
   "cell_type": "code",
   "execution_count": 2,
   "metadata": {},
   "outputs": [],
   "source": [
    "# Định nghĩa lớp Attention\n",
    "class Attention(tf.keras.layers.Layer):\n",
    "    def __init__(self, return_sequences=False):\n",
    "        self.return_sequences = return_sequences\n",
    "        super(Attention, self).__init__()\n",
    "\n",
    "    def build(self, input_shape):\n",
    "        self.W = self.add_weight(name=\"att_weight\", shape=(input_shape[-1], 1), initializer=\"normal\")\n",
    "        self.b = self.add_weight(name=\"att_bias\", shape=(input_shape[1], 1), initializer=\"zeros\")\n",
    "\n",
    "        super(Attention, self).build(input_shape)\n",
    "\n",
    "    def call(self, x):\n",
    "        e = K.tanh(K.dot(x, self.W) + self.b)\n",
    "        a = K.softmax(e, axis=1)\n",
    "\n",
    "        if self.return_sequences:\n",
    "            return a * x\n",
    "        else:\n",
    "            return K.sum(a * x, axis=1)"
   ]
  },
  {
   "cell_type": "code",
   "execution_count": 3,
   "metadata": {},
   "outputs": [
    {
     "data": {
      "text/html": [
       "<div>\n",
       "<style scoped>\n",
       "    .dataframe tbody tr th:only-of-type {\n",
       "        vertical-align: middle;\n",
       "    }\n",
       "\n",
       "    .dataframe tbody tr th {\n",
       "        vertical-align: top;\n",
       "    }\n",
       "\n",
       "    .dataframe thead th {\n",
       "        text-align: right;\n",
       "    }\n",
       "</style>\n",
       "<table border=\"1\" class=\"dataframe\">\n",
       "  <thead>\n",
       "    <tr style=\"text-align: right;\">\n",
       "      <th></th>\n",
       "      <th>tokenized_contents</th>\n",
       "      <th>Category</th>\n",
       "    </tr>\n",
       "  </thead>\n",
       "  <tbody>\n",
       "    <tr>\n",
       "      <th>0</th>\n",
       "      <td>quý iii giao_dịch bất_động_sản thị_trường đà_n...</td>\n",
       "      <td>Bất động sản</td>\n",
       "    </tr>\n",
       "    <tr>\n",
       "      <th>1</th>\n",
       "      <td>tin_tưởng hùn vốn giám_đốc công_ty bất_động_sả...</td>\n",
       "      <td>Bất động sản</td>\n",
       "    </tr>\n",
       "    <tr>\n",
       "      <th>2</th>\n",
       "      <td>chủ_tịch ubnd tỉnh bắc ninh phê_duyệt quy_hoạc...</td>\n",
       "      <td>Bất động sản</td>\n",
       "    </tr>\n",
       "  </tbody>\n",
       "</table>\n",
       "</div>"
      ],
      "text/plain": [
       "                                  tokenized_contents      Category\n",
       "0  quý iii giao_dịch bất_động_sản thị_trường đà_n...  Bất động sản\n",
       "1  tin_tưởng hùn vốn giám_đốc công_ty bất_động_sả...  Bất động sản\n",
       "2  chủ_tịch ubnd tỉnh bắc ninh phê_duyệt quy_hoạc...  Bất động sản"
      ]
     },
     "execution_count": 3,
     "metadata": {},
     "output_type": "execute_result"
    }
   ],
   "source": [
    "# Tạo DataFrame mới chỉ chứa 2 cột \"Summary\" và \"Category\"\n",
    "data = pd.read_excel(\"data.xlsx\") #thay thế bằng dữ liệu sau tiền xử lý\n",
    "lstm_train_data = data.copy()\n",
    "lstm_train_data = lstm_train_data[[\"tokenized_contents\", \"Category\"]]\n",
    "lstm_train_data.head(3)"
   ]
  },
  {
   "cell_type": "code",
   "execution_count": 4,
   "metadata": {},
   "outputs": [
    {
     "data": {
      "text/plain": [
       "array(['Bất động sản', 'Công nghệ', 'Văn hóa - Giải trí',\n",
       "       'Gia đình - Hôn nhân', 'Giáo dục', 'Tấm Lòng Vàng', 'Pháp luật',\n",
       "       'Sức khỏe', 'Thông tin tiện ích', 'Thế giới', 'Thể thao',\n",
       "       'Tin tức việc làm', 'Xe +'], dtype=object)"
      ]
     },
     "execution_count": 4,
     "metadata": {},
     "output_type": "execute_result"
    }
   ],
   "source": [
    "# Chia thành cột tokenized_contents và cột Category\n",
    "sentences = lstm_train_data['tokenized_contents'].tolist()\n",
    "labels = lstm_train_data['Category'].tolist()\n",
    "lstm_train_data['Category'].unique()"
   ]
  },
  {
   "cell_type": "code",
   "execution_count": 5,
   "metadata": {},
   "outputs": [
    {
     "data": {
      "text/plain": [
       "array([ 0,  0,  0, ..., 12, 12, 12], dtype=int64)"
      ]
     },
     "execution_count": 5,
     "metadata": {},
     "output_type": "execute_result"
    }
   ],
   "source": [
    "# Sử dụng LabelEncoder để mã hóa nhãn\n",
    "label_encoder = LabelEncoder()\n",
    "labels_encoded = label_encoder.fit_transform(labels)\n",
    "labels_encoded"
   ]
  },
  {
   "cell_type": "code",
   "execution_count": 6,
   "metadata": {},
   "outputs": [
    {
     "data": {
      "text/plain": [
       "[[501,\n",
       "  2623,\n",
       "  94,\n",
       "  47,\n",
       "  75,\n",
       "  2,\n",
       "  51,\n",
       "  34,\n",
       "  5,\n",
       "  364,\n",
       "  398,\n",
       "  1044,\n",
       "  1716,\n",
       "  14,\n",
       "  78,\n",
       "  14,\n",
       "  123,\n",
       "  793,\n",
       "  211,\n",
       "  953,\n",
       "  706,\n",
       "  588,\n",
       "  266,\n",
       "  208,\n",
       "  34,\n",
       "  5]]"
      ]
     },
     "execution_count": 6,
     "metadata": {},
     "output_type": "execute_result"
    }
   ],
   "source": [
    "# Xử lý dữ liệu văn bản\n",
    "tokenizer = Tokenizer()\n",
    "tokenizer.fit_on_texts(sentences)\n",
    "word_index = tokenizer.word_index\n",
    "vocab_size = len(word_index) + 1\n",
    "sequences = tokenizer.texts_to_sequences(sentences)\n",
    "sequences[:1]"
   ]
  },
  {
   "cell_type": "code",
   "execution_count": 7,
   "metadata": {},
   "outputs": [],
   "source": [
    "# Chia thành tập huấn luyện và tập kiểm tra\n",
    "X_train, X_test, y_train, y_test = train_test_split(sequences, labels_encoded, test_size=0.2, random_state=42)"
   ]
  },
  {
   "cell_type": "code",
   "execution_count": 8,
   "metadata": {},
   "outputs": [
    {
     "data": {
      "text/plain": [
       "array([[   0,    0,    0, ...,  201,    8,    4],\n",
       "       [   0,    0,    0, ...,  996,  708,  340],\n",
       "       [   0,    0,    0, ..., 1102,  481,    5],\n",
       "       ...,\n",
       "       [   0,    0,    0, ..., 6316, 6317, 6318],\n",
       "       [   0,    0,    0, ...,  150,  928,   39],\n",
       "       [   0,    0,    0, ...,  159, 2924, 3395]])"
      ]
     },
     "execution_count": 8,
     "metadata": {},
     "output_type": "execute_result"
    }
   ],
   "source": [
    "# Xử lý dữ liệu đầu vào\n",
    "max_length = max(len(seq) for seq in sequences)\n",
    "X_train = pad_sequences(X_train, maxlen=max_length)\n",
    "X_test = pad_sequences(X_test, maxlen=max_length)\n",
    "X_train"
   ]
  },
  {
   "cell_type": "code",
   "execution_count": 9,
   "metadata": {},
   "outputs": [
    {
     "name": "stdout",
     "output_type": "stream",
     "text": [
      "WARNING:tensorflow:From c:\\Users\\PHC\\AppData\\Local\\Programs\\Python\\Python311\\Lib\\site-packages\\keras\\src\\backend.py:873: The name tf.get_default_graph is deprecated. Please use tf.compat.v1.get_default_graph instead.\n",
      "\n",
      "WARNING:tensorflow:From c:\\Users\\PHC\\AppData\\Local\\Programs\\Python\\Python311\\Lib\\site-packages\\keras\\src\\optimizers\\__init__.py:309: The name tf.train.Optimizer is deprecated. Please use tf.compat.v1.train.Optimizer instead.\n",
      "\n"
     ]
    }
   ],
   "source": [
    "# Chuẩn bị nhãn & Mô hình\n",
    "num_classes = len(label_encoder.classes_)\n",
    "one_hot_labels_train = to_categorical(y_train, num_classes=num_classes)\n",
    "one_hot_labels_test = to_categorical(y_test, num_classes=num_classes)\n",
    "\n",
    "embedding_dim = 100\n",
    "\n",
    "model = Sequential()\n",
    "model.add(Embedding(vocab_size, embedding_dim, input_length=max_length))\n",
    "model.add(Bidirectional(LSTM(128, return_sequences=True)))\n",
    "model.add(Attention())\n",
    "# model.add(Dense(num_classes, activation='relu'))\n",
    "model.add(Dense(num_classes, activation='softmax'))\n",
    "\n",
    "model.compile(loss='categorical_crossentropy', optimizer='adam', metrics=['accuracy'])"
   ]
  },
  {
   "cell_type": "code",
   "execution_count": 10,
   "metadata": {},
   "outputs": [
    {
     "name": "stdout",
     "output_type": "stream",
     "text": [
      "WARNING:tensorflow:From c:\\Users\\PHC\\AppData\\Local\\Programs\\Python\\Python311\\Lib\\site-packages\\keras\\src\\utils\\tf_utils.py:492: The name tf.ragged.RaggedTensorValue is deprecated. Please use tf.compat.v1.ragged.RaggedTensorValue instead.\n",
      "\n",
      "WARNING:tensorflow:From c:\\Users\\PHC\\AppData\\Local\\Programs\\Python\\Python311\\Lib\\site-packages\\keras\\src\\engine\\base_layer_utils.py:384: The name tf.executing_eagerly_outside_functions is deprecated. Please use tf.compat.v1.executing_eagerly_outside_functions instead.\n",
      "\n"
     ]
    }
   ],
   "source": [
    "usemodel = model.fit(X_train, one_hot_labels_train, batch_size=16, epochs=5, validation_data=(X_test, one_hot_labels_test), verbose=0)"
   ]
  },
  {
   "cell_type": "code",
   "execution_count": 11,
   "metadata": {},
   "outputs": [
    {
     "name": "stdout",
     "output_type": "stream",
     "text": [
      "Epoch 1/5\n",
      "  Train Loss: 2.0124 - Train Accuracy: 0.2820\n",
      "  Val Loss: 1.6193 - Val Accuracy: 0.4399\n",
      "Epoch 2/5\n",
      "  Train Loss: 1.1894 - Train Accuracy: 0.6036\n",
      "  Val Loss: 1.0863 - Val Accuracy: 0.6496\n",
      "Epoch 3/5\n",
      "  Train Loss: 0.7394 - Train Accuracy: 0.7719\n",
      "  Val Loss: 0.8458 - Val Accuracy: 0.7431\n",
      "Epoch 4/5\n",
      "  Train Loss: 0.4588 - Train Accuracy: 0.8642\n",
      "  Val Loss: 0.8476 - Val Accuracy: 0.7461\n",
      "Epoch 5/5\n",
      "  Train Loss: 0.3280 - Train Accuracy: 0.9083\n",
      "  Val Loss: 0.7872 - Val Accuracy: 0.7697\n"
     ]
    }
   ],
   "source": [
    "epochs=5\n",
    "\n",
    "# Hiển thị loss và accuracy của từng epoch\n",
    "train_loss = usemodel.history['loss']\n",
    "train_accuracy = usemodel.history['accuracy']\n",
    "val_loss = usemodel.history['val_loss']\n",
    "val_accuracy = usemodel.history['val_accuracy']\n",
    "\n",
    "for epoch in range(epochs):\n",
    "    print(f\"Epoch {epoch+1}/{epochs}\")\n",
    "    print(f\"  Train Loss: {train_loss[epoch]:.4f} - Train Accuracy: {train_accuracy[epoch]:.4f}\")\n",
    "    print(f\"  Val Loss: {val_loss[epoch]:.4f} - Val Accuracy: {val_accuracy[epoch]:.4f}\")"
   ]
  },
  {
   "cell_type": "code",
   "execution_count": 12,
   "metadata": {},
   "outputs": [
    {
     "name": "stdout",
     "output_type": "stream",
     "text": [
      "63/63 [==============================] - 4s 61ms/step - loss: 0.7872 - accuracy: 0.7697\n",
      "Loss: 0.7871654033660889\n",
      "Accuracy: 0.7697335481643677\n"
     ]
    }
   ],
   "source": [
    "# Đánh giá mô hình trên tập kiểm tra\n",
    "loss, accuracy = model.evaluate(X_test, one_hot_labels_test)\n",
    "print('Loss:', loss)\n",
    "print('Accuracy:', accuracy)"
   ]
  },
  {
   "cell_type": "code",
   "execution_count": 13,
   "metadata": {},
   "outputs": [
    {
     "data": {
      "text/plain": [
       "['lstm_model.joblib']"
      ]
     },
     "execution_count": 13,
     "metadata": {},
     "output_type": "execute_result"
    }
   ],
   "source": [
    "# Lưu mô hình với encoding UTF-8\n",
    "joblib.dump(model, 'lstm_model.joblib')"
   ]
  },
  {
   "cell_type": "code",
   "execution_count": 14,
   "metadata": {},
   "outputs": [
    {
     "name": "stdout",
     "output_type": "stream",
     "text": [
      "1/1 [==============================] - 1s 1s/step\n",
      "Sentence: Sự phát triển của ngành công nghiệp điện ảnh đã tạo ra nhiều phim ảnh sáng tạo và hấp dẫn, mang đến cho khán giả trải nghiệm giải trí độc đáo.\n",
      "Predicted label: Văn hóa - Giải trí\n",
      "\n",
      "Sentence: Công nghệ AI đang thay đổi cách chúng ta tương tác với thế giới, từ việc giúp chúng ta tìm kiếm thông tin nhanh chóng đến việc tạo ra trợ lý ảo thông minh.\n",
      "Predicted label: Công nghệ\n",
      "\n",
      "Sentence: Thay đổi khí hậu đang là một vấn đề toàn cầu cấp bách, yêu cầu sự hợp tác và hành động quyết liệt từ tất cả các quốc gia trên thế giới.\n",
      "Predicted label: Thể thao\n",
      "\n"
     ]
    },
    {
     "data": {
      "text/plain": [
       "array(['Văn hóa - Giải trí', 'Công nghệ', 'Thể thao'], dtype='<U19')"
      ]
     },
     "execution_count": 14,
     "metadata": {},
     "output_type": "execute_result"
    }
   ],
   "source": [
    "#-------------------------------------------------------------------------------------------------------------------------------------------\n",
    "# Sử dụng mô hình (Mẫu)\n",
    "\n",
    "# Đường dẫn tới tệp stopword\n",
    "stopword_file = 'vietnamese.txt'\n",
    "\n",
    "# Đọc danh sách từ stopword từ tệp\n",
    "with open(stopword_file, 'r', encoding='utf-8') as f:\n",
    "    stopword_list = [word.strip() for word in f.readlines()]\n",
    "\n",
    "# Chuẩn bị câu mới\n",
    "new_sentences = [\n",
    "    \"Sự phát triển của ngành công nghiệp điện ảnh đã tạo ra nhiều phim ảnh sáng tạo và hấp dẫn, mang đến cho khán giả trải nghiệm giải trí độc đáo.\",\n",
    "    \"Công nghệ AI đang thay đổi cách chúng ta tương tác với thế giới, từ việc giúp chúng ta tìm kiếm thông tin nhanh chóng đến việc tạo ra trợ lý ảo thông minh.\",\n",
    "    \"Thay đổi khí hậu đang là một vấn đề toàn cầu cấp bách, yêu cầu sự hợp tác và hành động quyết liệt từ tất cả các quốc gia trên thế giới.\"\n",
    "]\n",
    "\n",
    "# Tiền xử lý câu mới\n",
    "preprocessed_sentences = []\n",
    "for sentence in new_sentences:\n",
    "    sentence = re.sub(r'[^\\w\\s]', '', sentence)\n",
    "    sentence = ViTokenizer.tokenize(sentence)\n",
    "    words = sentence.split()\n",
    "    words = [word for word in words if word.lower() not in stopword_list]\n",
    "    sentence = ' '.join(words)\n",
    "    preprocessed_sentences.append(sentence)\n",
    "\n",
    "# Chuyển đổi câu mới thành chuỗi số\n",
    "new_sequences = tokenizer.texts_to_sequences(preprocessed_sentences)\n",
    "new_sequences = pad_sequences(new_sequences, maxlen=max_length)\n",
    "\n",
    "# Dự đoán nhãn cho các câu mới\n",
    "predictions = model.predict(new_sequences)\n",
    "predicted_labels = label_encoder.inverse_transform(np.argmax(predictions, axis=1))\n",
    "\n",
    "# In kết quả dự đoán\n",
    "for sentence, label in zip(new_sentences, predicted_labels):\n",
    "    print(\"Sentence:\", sentence)\n",
    "    print(\"Predicted label:\", label)\n",
    "    print()\n",
    "\n",
    "predicted_labels"
   ]
  },
  {
   "cell_type": "code",
   "execution_count": 15,
   "metadata": {},
   "outputs": [],
   "source": [
    "# Thư viện sử dụng\n",
    "import numpy as np\n",
    "import time\n",
    "import matplotlib.pyplot as plt\n",
    "import seaborn as sns\n",
    "from sklearn.metrics import confusion_matrix"
   ]
  },
  {
   "cell_type": "code",
   "execution_count": 16,
   "metadata": {},
   "outputs": [
    {
     "name": "stdout",
     "output_type": "stream",
     "text": [
      "Completed training 1 time(s). Training time: 52.88s\n",
      "Completed training 2 time(s). Training time: 50.81s\n",
      "Completed training 3 time(s). Training time: 48.79s\n",
      "Completed training 4 time(s). Training time: 50.03s\n",
      "Completed training 5 time(s). Training time: 47.93s\n",
      "Completed training 6 time(s). Training time: 46.65s\n",
      "Completed training 7 time(s). Training time: 50.21s\n",
      "Completed training 8 time(s). Training time: 47.18s\n",
      "Completed training 9 time(s). Training time: 47.01s\n",
      "Completed training 10 time(s). Training time: 46.57s\n"
     ]
    },
    {
     "data": {
      "image/png": "[encoded data removed]",
      "text/plain": [
       "<Figure size 640x480 with 1 Axes>"
      ]
     },
     "metadata": {},
     "output_type": "display_data"
    },
    {
     "name": "stdout",
     "output_type": "stream",
     "text": [
      "63/63 [==============================] - 3s 49ms/step\n",
      "Accuracy: 0.78\n",
      "Precision: 0.80\n",
      "Recall: 0.76\n",
      "F1-score: 0.77\n"
     ]
    }
   ],
   "source": [
    "#-------------------------------------------------------------------------------------------------------------------------------------------\n",
    "# Đánh giá siêu tham số của mô hình\n",
    "\n",
    "# Huấn luyện mô hình - Timing - 6 tiếng\n",
    "batch_size = 32\n",
    "epochs = 1\n",
    "\n",
    "train_times = []  # Lưu trữ thời gian huấn luyện\n",
    "\n",
    "for i in range(10):\n",
    "    start_time = time.time()\n",
    "    history = model.fit(X_train, one_hot_labels_train, batch_size=batch_size, epochs=epochs, validation_data=(X_test, one_hot_labels_test), verbose=0)\n",
    "    end_time = time.time()\n",
    "    train_time = end_time - start_time\n",
    "    train_times.append(train_time)\n",
    "    print(f\"Completed training {i + 1} time(s). Training time: {train_time:.2f}s\")\n",
    "\n",
    "# Vẽ đồ thị thời gian huấn luyện\n",
    "plt.plot(range(1, 11), train_times, marker='o', linestyle='-', color='blue')\n",
    "plt.axhline(y=np.mean(train_times), color='red', linestyle='--')\n",
    "plt.xlabel('Training Iteration')\n",
    "plt.ylabel('Training Time (seconds)')\n",
    "plt.title('Training Time per Iteration')\n",
    "plt.grid(True)\n",
    "plt.show()\n",
    "\n",
    "# Đánh giá mô hình trên tập kiểm tra\n",
    "y_pred = model.predict(X_test)\n",
    "y_pred = np.argmax(y_pred, axis=1)\n",
    "y_test = np.argmax(one_hot_labels_test, axis=1)\n",
    "\n",
    "accuracy = np.mean(y_pred == y_test)\n",
    "precision = precision_score(y_test, y_pred, average='macro')\n",
    "recall = recall_score(y_test, y_pred, average='macro')\n",
    "f1 = f1_score(y_test, y_pred, average='macro')\n",
    "\n",
    "print(f'Accuracy: {accuracy:.2f}')\n",
    "print(f'Precision: {precision:.2f}')\n",
    "print(f'Recall: {recall:.2f}')\n",
    "print(f'F1-score: {f1:.2f}')"
   ]
  },
  {
   "cell_type": "code",
   "execution_count": 17,
   "metadata": {},
   "outputs": [
    {
     "name": "stdout",
     "output_type": "stream",
     "text": [
      "63/63 [==============================] - 3s 50ms/step\n"
     ]
    },
    {
     "data": {
      "image/png": "[encoded data removed]",
      "text/plain": [
       "<Figure size 1500x1200 with 2 Axes>"
      ]
     },
     "metadata": {},
     "output_type": "display_data"
    }
   ],
   "source": [
    "#-------------------------------------------------------------------------------------------------------------------------------------------\n",
    "# Biểu diễn trực quan mô hình (Dự đoán - Thực tế)\n",
    "\n",
    "# Dự đoán nhãn trên tập kiểm tra\n",
    "test_predictions = model.predict(X_test)\n",
    "test_predicted_labels = label_encoder.inverse_transform(np.argmax(test_predictions, axis=1))\n",
    "\n",
    "# Tính toán ma trận nhầm lẫn trên tập kiểm tra\n",
    "test_cm = confusion_matrix(label_encoder.inverse_transform(np.argmax(one_hot_labels_test, axis=1)), test_predicted_labels)\n",
    "\n",
    "# Trực quan hóa ma trận nhầm lẫn trên tập kiểm tra\n",
    "plt.figure(figsize=(15, 12))\n",
    "sns.heatmap(test_cm, annot=True, fmt='d', cmap='Blues', annot_kws={\"fontsize\": 6})\n",
    "plt.xlabel('Predicted Labels')\n",
    "plt.ylabel('True Labels')\n",
    "plt.title('Confusion Matrix - Test Data')\n",
    "plt.show()"
   ]
  }
 ],
 "metadata": {
  "kernelspec": {
   "display_name": "Python 3",
   "language": "python",
   "name": "python3"
  },
  "language_info": {
   "codemirror_mode": {
    "name": "ipython",
    "version": 3
   },
   "file_extension": ".py",
   "mimetype": "text/x-python",
   "name": "python",
   "nbconvert_exporter": "python",
   "pygments_lexer": "ipython3",
   "version": "3.11.1"
  }
 },
 "nbformat": 4,
 "nbformat_minor": 2
}
